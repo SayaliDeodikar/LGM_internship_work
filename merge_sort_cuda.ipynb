{
  "cells": [
    {
      "cell_type": "markdown",
      "metadata": {
        "id": "view-in-github",
        "colab_type": "text"
      },
      "source": [
        "<a href=\"https://colab.research.google.com/github/SayaliDeodikar/Project_Work/blob/main/merge_sort_cuda.ipynb\" target=\"_parent\"><img src=\"https://colab.research.google.com/assets/colab-badge.svg\" alt=\"Open In Colab\"/></a>"
      ]
    },
    {
      "cell_type": "code",
      "execution_count": 1,
      "metadata": {
        "colab": {
          "base_uri": "https://localhost:8080/"
        },
        "id": "Mo41xRZ5zAgO",
        "outputId": "80bac032-c9ec-43a7-875b-d05cc39929e5"
      },
      "outputs": [
        {
          "output_type": "stream",
          "name": "stdout",
          "text": [
            "Looking in indexes: https://pypi.org/simple, https://us-python.pkg.dev/colab-wheels/public/simple/\n",
            "Collecting pycuda\n",
            "  Downloading pycuda-2022.2.2.tar.gz (1.7 MB)\n",
            "\u001b[2K     \u001b[90m━━━━━━━━━━━━━━━━━━━━━━━━━━━━━━━━━━━━━━━━\u001b[0m \u001b[32m1.7/1.7 MB\u001b[0m \u001b[31m27.3 MB/s\u001b[0m eta \u001b[36m0:00:00\u001b[0m\n",
            "\u001b[?25h  Installing build dependencies ... \u001b[?25l\u001b[?25hdone\n",
            "  Getting requirements to build wheel ... \u001b[?25l\u001b[?25hdone\n",
            "  Preparing metadata (pyproject.toml) ... \u001b[?25l\u001b[?25hdone\n",
            "Collecting pytools>=2011.2 (from pycuda)\n",
            "  Downloading pytools-2022.1.14.tar.gz (74 kB)\n",
            "\u001b[2K     \u001b[90m━━━━━━━━━━━━━━━━━━━━━━━━━━━━━━━━━━━━━━━━\u001b[0m \u001b[32m74.6/74.6 kB\u001b[0m \u001b[31m10.4 MB/s\u001b[0m eta \u001b[36m0:00:00\u001b[0m\n",
            "\u001b[?25h  Preparing metadata (setup.py) ... \u001b[?25l\u001b[?25hdone\n",
            "Requirement already satisfied: appdirs>=1.4.0 in /usr/local/lib/python3.10/dist-packages (from pycuda) (1.4.4)\n",
            "Collecting mako (from pycuda)\n",
            "  Downloading Mako-1.2.4-py3-none-any.whl (78 kB)\n",
            "\u001b[2K     \u001b[90m━━━━━━━━━━━━━━━━━━━━━━━━━━━━━━━━━━━━━━━━\u001b[0m \u001b[32m78.7/78.7 kB\u001b[0m \u001b[31m10.6 MB/s\u001b[0m eta \u001b[36m0:00:00\u001b[0m\n",
            "\u001b[?25hRequirement already satisfied: platformdirs>=2.2.0 in /usr/local/lib/python3.10/dist-packages (from pytools>=2011.2->pycuda) (3.3.0)\n",
            "Requirement already satisfied: typing_extensions>=4.0 in /usr/local/lib/python3.10/dist-packages (from pytools>=2011.2->pycuda) (4.5.0)\n",
            "Requirement already satisfied: MarkupSafe>=0.9.2 in /usr/local/lib/python3.10/dist-packages (from mako->pycuda) (2.1.2)\n",
            "Building wheels for collected packages: pycuda, pytools\n",
            "  Building wheel for pycuda (pyproject.toml) ... \u001b[?25l\u001b[?25hdone\n",
            "  Created wheel for pycuda: filename=pycuda-2022.2.2-cp310-cp310-linux_x86_64.whl size=661975 sha256=f2bd520ac87514983730d7de8bf4ff83314ab30aac789b35dcef77a4ee060a89\n",
            "  Stored in directory: /root/.cache/pip/wheels/1d/7b/06/82a395a243fce00035dea9914d92bbef0013401497d849f8bc\n",
            "  Building wheel for pytools (setup.py) ... \u001b[?25l\u001b[?25hdone\n",
            "  Created wheel for pytools: filename=pytools-2022.1.14-py2.py3-none-any.whl size=69855 sha256=892288c2bb1d0e3bdf3f932353e08cbd904b874d5586dfdf22ff3e5f6ede7be9\n",
            "  Stored in directory: /root/.cache/pip/wheels/19/02/16/aa2498ad7aa723a149ff7539f1918509661c0ae9d975b44b6d\n",
            "Successfully built pycuda pytools\n",
            "Installing collected packages: pytools, mako, pycuda\n",
            "Successfully installed mako-1.2.4 pycuda-2022.2.2 pytools-2022.1.14\n"
          ]
        }
      ],
      "source": [
        "!pip install pycuda \n",
        "# !apt-get install -y cuda-toolkit-11-0"
      ]
    },
    {
      "cell_type": "code",
      "execution_count": 3,
      "metadata": {
        "colab": {
          "base_uri": "https://localhost:8080/"
        },
        "id": "5t-uyXvt0J9N",
        "outputId": "ee297e3c-72af-487b-cf93-10707c22a474"
      },
      "outputs": [
        {
          "output_type": "stream",
          "name": "stdout",
          "text": [
            "Sorted array (Merge Sort): [    20     32     47 ... 999969 999995 999997]\n",
            "Time taken on CPU: 0.9441301822662354\n",
            "Sorted array (CUDA Merge Sort): [    20     32     47 ... 999969 999995 999997]\n",
            "Time taken on GPU: 0.8938086032867432\n"
          ]
        }
      ],
      "source": [
        "import pycuda.autoinit\n",
        "import pycuda.driver as cuda\n",
        "from pycuda import gpuarray\n",
        "from pycuda.compiler import SourceModule \n",
        "import numpy as np\n",
        "import time\n",
        "import random\n",
        "\n",
        "def merge(left, right, output):\n",
        "    i, j, k = 0, 0, 0\n",
        "    n_left, n_right = len(left), len(right)\n",
        "\n",
        "    while i < n_left and j < n_right:\n",
        "        if left[i] <= right[j]:\n",
        "            output[k] = left[i]\n",
        "            i += 1\n",
        "        else:\n",
        "            output[k] = right[j]\n",
        "            j += 1\n",
        "        k += 1\n",
        "\n",
        "    while i < n_left:\n",
        "        output[k] = left[i]\n",
        "        i += 1\n",
        "        k += 1\n",
        "\n",
        "    while j < n_right:\n",
        "        output[k] = right[j]\n",
        "        j += 1\n",
        "        k += 1\n",
        "\n",
        "def merge_sort(arr):\n",
        "    if len(arr) <= 1:\n",
        "        return arr\n",
        "    mid = len(arr) // 2\n",
        "    left = merge_sort(arr[:mid])\n",
        "    right = merge_sort(arr[mid:])\n",
        "\n",
        "    merged = np.empty_like(arr)\n",
        "    merge(left, right, merged)\n",
        "    return merged\n",
        "\n",
        "\n",
        "def cuda_merge_sort(arr):\n",
        "    start_time = time.time()\n",
        "    if len(arr) <= 1:\n",
        "        # end_time = time.time()\n",
        "        return arr\n",
        "    mid = len(arr) // 2 \n",
        "    left = merge_sort(arr[:mid]) \n",
        "    right = merge_sort(arr[mid:])\n",
        "\n",
        "    merged = np.empty_like(arr)\n",
        "    encoded_merge_gpu = cuda.mem_alloc(merged.nbytes)\n",
        "    cuda.memcpy_htod(encoded_merge_gpu, merged)\n",
        "    merge(left, right, merged)\n",
        "    end_time = time.time()\n",
        "    return merged, end_time - start_time\n",
        "\n",
        "# Example usage\n",
        "#input_array = [8, 4, 2, 9, 3, 6, 1, 7, 5, 10, 567, 487, 5893, 930, 740, 36, 24]\n",
        "# print(\"Input array:\", input_array)\n",
        "\n",
        "# Using the regular merge sort\n",
        "start = time.time()\n",
        "input_array = [random.randint(1, 1000000) for _ in range(100000)]\n",
        "# print(input_list)\n",
        "sorted_array = merge_sort(input_array)\n",
        "end = time.time()\n",
        "print(\"Sorted array (Merge Sort):\", sorted_array)\n",
        "print(\"Time taken on CPU:\", end - start)\n",
        "\n",
        "# Using the CUDA merge sort\n",
        "cuda_sorted_array, time_taken_gpu = cuda_merge_sort(input_array)\n",
        "print(\"Sorted array (CUDA Merge Sort):\", cuda_sorted_array)\n",
        "print(\"Time taken on GPU:\", time_taken_gpu) "
      ]
    },
    {
      "cell_type": "code",
      "execution_count": null,
      "metadata": {
        "id": "3hB2lzJD2Ars"
      },
      "outputs": [],
      "source": []
    }
  ],
  "metadata": {
    "accelerator": "GPU",
    "colab": {
      "provenance": [],
      "include_colab_link": true
    },
    "gpuClass": "standard",
    "kernelspec": {
      "display_name": "Python 3",
      "name": "python3"
    },
    "language_info": {
      "name": "python"
    }
  },
  "nbformat": 4,
  "nbformat_minor": 0
}